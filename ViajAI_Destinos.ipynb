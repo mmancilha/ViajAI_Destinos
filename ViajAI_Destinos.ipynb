{
  "nbformat": 4,
  "nbformat_minor": 0,
  "metadata": {
    "colab": {
      "provenance": [],
      "authorship_tag": "ABX9TyNDUij6qpR2A8+/sG0KU2L4",
      "include_colab_link": true
    },
    "kernelspec": {
      "name": "python3",
      "display_name": "Python 3"
    },
    "language_info": {
      "name": "python"
    }
  },
  "cells": [
    {
      "cell_type": "markdown",
      "metadata": {
        "id": "view-in-github",
        "colab_type": "text"
      },
      "source": [
        "<a href=\"https://colab.research.google.com/github/mmancilha/ViajAI_Destinos/blob/main/ViajAI_Destinos.ipynb\" target=\"_parent\"><img src=\"https://colab.research.google.com/assets/colab-badge.svg\" alt=\"Open In Colab\"/></a>"
      ]
    },
    {
      "cell_type": "markdown",
      "source": [],
      "metadata": {
        "id": "srDU0wuXMfgL"
      }
    },
    {
      "cell_type": "markdown",
      "source": [
        "# Importação da Biblioteca Google Generative AI e Configuração da API Key"
      ],
      "metadata": {
        "id": "lx7zwP2FMg7n"
      }
    },
    {
      "cell_type": "code",
      "source": [
        "import google.generativeai as genai\n",
        "from google.colab import userdata\n",
        "\n",
        "# Obter Chave Secreta do Colab\n",
        "secret_key = userdata.get('secret_key')\n",
        "\n",
        "# Configurar Chave API\n",
        "api_key = secret_key\n",
        "genai.configure(api_key=api_key)\n"
      ],
      "metadata": {
        "id": "XnhkX-tt93df"
      },
      "execution_count": 1,
      "outputs": []
    },
    {
      "cell_type": "code",
      "source": [
        "def obter_destino():\n",
        "  return input(\"Qual cidade ou região você gostaria de explorar? \")\n",
        "\n",
        "def obter_duracao():\n",
        "  return input(\"Quantos dias você pretende viaja? \")\n",
        "\n",
        "def obter_companhia():\n",
        "  return input(\"Quem vai viajar com você? (Ex: amigos, família, casal)? Informe os nomes e idade aproximada de todos. \")\n",
        "\n",
        "def obter_hospedagem():\n",
        "  return input(\"Que tipo de hospedagem você procura (Hostel, Pousada, Hotel, Resort, etc)? \")\n",
        "\n",
        "def obter_orcamento():\n",
        "  return input(\"Qual o seu orçamento para hospedagem? (Econômica (Diárias $100+), Standard (Diárias $300+) ou Luxo(Diárias $600+)? \")\n",
        "\n",
        "def obter_atividades():\n",
        "  return input(\"Quais são seus principais interesses durante a viagem (museus, gastronomia, natureza, esportes, etc.)? \")\n",
        "\n",
        "def obter_essenciais():\n",
        "  return input(\"O que você considera essencial para tornar sua viagem perfeita? \")"
      ],
      "metadata": {
        "id": "qcu5OoQB-a3B"
      },
      "execution_count": 8,
      "outputs": []
    },
    {
      "cell_type": "code",
      "source": [
        "viagem = {}\n",
        "viagem['destino'] = obter_destino()\n",
        "viagem['duracao'] = obter_duracao()\n",
        "viagem['companhia'] = obter_companhia()\n",
        "viagem['hospedagem'] = obter_hospedagem()\n",
        "viagem['orcamento'] = obter_orcamento()\n",
        "viagem['atividades'] = obter_atividades()\n",
        "viagem['essenciais'] = obter_essenciais()"
      ],
      "metadata": {
        "colab": {
          "base_uri": "https://localhost:8080/"
        },
        "id": "w55SS0OW-e4G",
        "outputId": "5ec3d294-a300-4ce0-8533-c495dd7acaaa"
      },
      "execution_count": 9,
      "outputs": [
        {
          "name": "stdout",
          "output_type": "stream",
          "text": [
            "Qual cidade ou região você gostaria de explorar? Mogi das Cruzes\n",
            "Quantos dias você pretende viaja? 7 dias\n",
            "Quem vai viajar com você? (Ex: amigos, família, casal)? Informe os nomes e idade aproximada de todos. Raisa e Maycon 34 anos\n",
            "Que tipo de hospedagem você procura (Hostel, Pousada, Hotel, Resort, etc)? Pousada\n",
            "Qual o seu orçamento para hospedagem? (Econômica (Diárias $100+), Standard (Diárias $300+) ou Luxo(Diárias $600+)? Standard\n",
            "Quais são seus principais interesses durante a viagem (museus, gastronomia, natureza, esportes, etc.)? Natureza\n",
            "O que você considera essencial para tornar sua viagem perfeita? Emoção\n"
          ]
        }
      ]
    },
    {
      "cell_type": "code",
      "source": [
        "model_name = \"gemini-1.0-pro\"\n",
        "generation_config = {\n",
        "  \"temperature\": 0.9,\n",
        "}\n",
        "\n",
        "model = genai.GenerativeModel(model_name='gemini-1.0-pro',\n",
        "                              generation_config=generation_config)\n",
        "\n",
        "prompt = f\"Crie um roteiro de viagem para {viagem['destino']} com duração de {viagem['duracao']} para {viagem['companhia']}, considerando hospedagem tipo {viagem['hospedagem']}, orçamento {viagem['orcamento']} e atividades {viagem['atividades']}. Não pode faltar {viagem['essenciais']}.\"\n",
        "\n",
        "response = model.generate_content(prompt)\n",
        "\n",
        "print(response.text)"
      ],
      "metadata": {
        "colab": {
          "base_uri": "https://localhost:8080/",
          "height": 1000
        },
        "id": "wxO5OvqQ_AMO",
        "outputId": "86ec2bd3-ba7c-43a7-8e61-4419d596f96d"
      },
      "execution_count": 11,
      "outputs": [
        {
          "output_type": "stream",
          "name": "stdout",
          "text": [
            "**Roteiro de Viagem de 7 Dias em Mogi das Cruzes para Raisa e Maycon**\n",
            "\n",
            "**Período:** 7 dias\n",
            "\n",
            "**Perfil dos viajantes:** Raisa e Maycon, 34 anos\n",
            "\n",
            "**Objetivo:** Natureza e Emoção\n",
            "\n",
            "**Orçamento:** Standard\n",
            "\n",
            "**Hospedagem:** Pousada\n",
            "\n",
            "**Dia 1:**\n",
            "\n",
            "* Chegada em Mogi das Cruzes e check-in na pousada.\n",
            "* Almoço em restaurante local.\n",
            "* Visita ao Parque Centenário, com caminhada pelos jardins e lago.\n",
            "* Jantar em restaurante romântico.\n",
            "\n",
            "**Dia 2:**\n",
            "\n",
            "* Trilha no Pico do Urubu, com vistas panorâmicas da cidade.\n",
            "* Almoço em chalé no topo do pico.\n",
            "* Tirolesa no Adventure Park Mogi.\n",
            "* Jantar em hamburgueria artesanal.\n",
            "\n",
            "**Dia 3:**\n",
            "\n",
            "* Passeio de caiaque no Rio Tietê.\n",
            "* Almoço em restaurante à beira do rio.\n",
            "* Visita à Fazenda São Bento, com trilhas e cachoeiras.\n",
            "* Jantar em restaurante típico com música ao vivo.\n",
            "\n",
            "**Dia 4:**\n",
            "\n",
            "* Trilha para a Cachoeira do Saltão.\n",
            "* Almoço em área de piquenique.\n",
            "* Arvorismo no Parque Max Feffer.\n",
            "* Jantar em pizzaria.\n",
            "\n",
            "**Dia 5:**\n",
            "\n",
            "* Visita ao Zoológico Municipal de Mogi das Cruzes.\n",
            "* Almoço no restaurante do zoológico.\n",
            "* Passeio de pedalinho no Lago dos Cisnes.\n",
            "* Jantar em churrascaria.\n",
            "\n",
            "**Dia 6:**\n",
            "\n",
            "* Trilha para o Mirante da Pedra do Lobo.\n",
            "* Almoço em restaurante com vista panorâmica.\n",
            "* Rafting no Rio Tietê (opcional, com custo adicional).\n",
            "* Jantar em restaurante oriental.\n",
            "\n",
            "**Dia 7:**\n",
            "\n",
            "* Passeio no Shopping Mogi das Cruzes.\n",
            "* Almoço em restaurante fast food.\n",
            "* Retorno para casa.\n",
            "\n",
            "**Acomodações:**\n",
            "\n",
            "* Pousada Jardim das Estrelas\n",
            "* Pousada Recanto do Sol\n",
            "\n",
            "**Dicas:**\n",
            "\n",
            "* Reserve a pousada e as atrações com antecedência, especialmente nos fins de semana.\n",
            "* Leve roupas e sapatos confortáveis para as trilhas.\n",
            "* Leve protetor solar, repelente de insetos e água.\n",
            "* Aproveite a natureza e a aventura que Mogi das Cruzes oferece.\n"
          ]
        }
      ]
    }
  ]
}